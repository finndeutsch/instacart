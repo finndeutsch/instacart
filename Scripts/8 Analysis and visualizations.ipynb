{
 "cells": [
  {
   "cell_type": "markdown",
   "id": "fbca67f3",
   "metadata": {},
   "source": [
    "# 8 Analysis and visualizations"
   ]
  },
  {
   "cell_type": "markdown",
   "id": "2f39f525",
   "metadata": {},
   "source": [
    "## Table of contents\n",
    "1. [Importing Libraries & Data](#imports)\n",
    "2. [PII Check](#paragraph1)\n",
    "3. [Regional segmentation](#paragraph2)\n",
    "4. [Low-activity customers ](#paragraph3)\n",
    "5. [Customer profiling](#paragraph4)\n",
    "    1. [Criteria](#subparagraph1)\n",
    "        2. [Age groups](#subsubparagraph1)\n",
    "        3. [Income groups](#subsubparagraph2)\n",
    "        4. [Number of dependants](#subsubparagraph3)\n",
    "        5. [Relationship status](#subsubparagraph4)\n",
    "        6. [Goods](#subsubparagraph5)\n",
    "    2. [Setup profiles](#subparagraph2)\n",
    "6. [Customer profile frequency and expenditure](#paragraph6)\n",
    "7. [Customer profiles by regions](#paragraph7)\n",
    "8. [Chart visualisations](#paragraph8)\n",
    "9. [Visualizations export](#paragraph9)\n",
    "10. [Data export](#paragraph9)"
   ]
  },
  {
   "cell_type": "markdown",
   "id": "9cb711aa",
   "metadata": {},
   "source": [
    "### 1. Importing Libraries & Data <a name=\"imports\"></a>"
   ]
  },
  {
   "cell_type": "code",
   "execution_count": 1,
   "id": "44980a41",
   "metadata": {},
   "outputs": [],
   "source": [
    "# Importing pandas, numpy, os, matplotlib, seaborn & scipy libraries\n",
    "import pandas as pd\n",
    "import numpy as np\n",
    "import os\n",
    "import matplotlib.pyplot as plt\n",
    "import seaborn as sns\n",
    "import scipy"
   ]
  },
  {
   "cell_type": "code",
   "execution_count": 2,
   "id": "545ad2f1",
   "metadata": {},
   "outputs": [],
   "source": [
    "# Turning project folder path into a string\n",
    "path = r'C:\\Users\\deuts\\Desktop\\Instacart Basket Analysis'"
   ]
  },
  {
   "cell_type": "code",
   "execution_count": 3,
   "id": "cea08b59",
   "metadata": {},
   "outputs": [],
   "source": [
    "# Importing 'df_instacart.pkl' as df\n",
    "df = pd.read_pickle(os.path.join(path, '02 Data', 'Prepared Data', 'df_instacart.pkl'))"
   ]
  },
  {
   "cell_type": "markdown",
   "id": "bcbc179a",
   "metadata": {},
   "source": [
    "### 2. PII Check <a name=\"paragraph1\"></a>"
   ]
  },
  {
   "cell_type": "code",
   "execution_count": 4,
   "id": "1c576d7a",
   "metadata": {
    "scrolled": true
   },
   "outputs": [
    {
     "data": {
      "text/plain": [
       "Index(['order_id', 'user_id', 'order_number', 'orders_day_of_week',\n",
       "       'orders_hour_of_day', 'days_since_prior_order', 'product_id',\n",
       "       'add_to_cart_order', 'reordered', 'product_name', 'aisle_id',\n",
       "       'department_id', 'prices', '_merge', 'price_range_loc', 'busiest_day',\n",
       "       'busiest_days', 'busiest_period_of_day', 'max_order', 'loyalty_flag',\n",
       "       'average_spending', 'spending_flag', 'purchase_frequency',\n",
       "       'frequency_flag', 'gender', 'state', 'age', 'date_joined',\n",
       "       'no_of_dependants', 'relationship_status', 'income'],\n",
       "      dtype='object')"
      ]
     },
     "execution_count": 4,
     "metadata": {},
     "output_type": "execute_result"
    }
   ],
   "source": [
    "# Checking columns by name for possible privacy issues\n",
    "df.columns"
   ]
  },
  {
   "cell_type": "code",
   "execution_count": 5,
   "id": "dd8d1cfb",
   "metadata": {
    "scrolled": true
   },
   "outputs": [
    {
     "data": {
      "text/html": [
       "<div>\n",
       "<style scoped>\n",
       "    .dataframe tbody tr th:only-of-type {\n",
       "        vertical-align: middle;\n",
       "    }\n",
       "\n",
       "    .dataframe tbody tr th {\n",
       "        vertical-align: top;\n",
       "    }\n",
       "\n",
       "    .dataframe thead th {\n",
       "        text-align: right;\n",
       "    }\n",
       "</style>\n",
       "<table border=\"1\" class=\"dataframe\">\n",
       "  <thead>\n",
       "    <tr style=\"text-align: right;\">\n",
       "      <th></th>\n",
       "      <th>order_id</th>\n",
       "      <th>user_id</th>\n",
       "      <th>order_number</th>\n",
       "      <th>orders_day_of_week</th>\n",
       "      <th>orders_hour_of_day</th>\n",
       "      <th>days_since_prior_order</th>\n",
       "      <th>product_id</th>\n",
       "      <th>add_to_cart_order</th>\n",
       "      <th>reordered</th>\n",
       "      <th>product_name</th>\n",
       "      <th>aisle_id</th>\n",
       "      <th>department_id</th>\n",
       "      <th>prices</th>\n",
       "      <th>_merge</th>\n",
       "      <th>price_range_loc</th>\n",
       "      <th>busiest_day</th>\n",
       "      <th>busiest_days</th>\n",
       "      <th>busiest_period_of_day</th>\n",
       "      <th>max_order</th>\n",
       "      <th>loyalty_flag</th>\n",
       "      <th>average_spending</th>\n",
       "      <th>spending_flag</th>\n",
       "      <th>purchase_frequency</th>\n",
       "      <th>frequency_flag</th>\n",
       "      <th>gender</th>\n",
       "      <th>state</th>\n",
       "      <th>age</th>\n",
       "      <th>date_joined</th>\n",
       "      <th>no_of_dependants</th>\n",
       "      <th>relationship_status</th>\n",
       "      <th>income</th>\n",
       "    </tr>\n",
       "  </thead>\n",
       "  <tbody>\n",
       "    <tr>\n",
       "      <th>0</th>\n",
       "      <td>2539329</td>\n",
       "      <td>1</td>\n",
       "      <td>1</td>\n",
       "      <td>2</td>\n",
       "      <td>8</td>\n",
       "      <td>NaN</td>\n",
       "      <td>196</td>\n",
       "      <td>1</td>\n",
       "      <td>0</td>\n",
       "      <td>Soda</td>\n",
       "      <td>77</td>\n",
       "      <td>7</td>\n",
       "      <td>9.0</td>\n",
       "      <td>both</td>\n",
       "      <td>Mid-range product</td>\n",
       "      <td>Regularly busy</td>\n",
       "      <td>Regularly busy</td>\n",
       "      <td>Average orders</td>\n",
       "      <td>10</td>\n",
       "      <td>New customer</td>\n",
       "      <td>6.367797</td>\n",
       "      <td>Low Spender</td>\n",
       "      <td>20.5</td>\n",
       "      <td>Non-frequent customer</td>\n",
       "      <td>Female</td>\n",
       "      <td>Alabama</td>\n",
       "      <td>31</td>\n",
       "      <td>2/17/2019</td>\n",
       "      <td>3</td>\n",
       "      <td>married</td>\n",
       "      <td>40423</td>\n",
       "    </tr>\n",
       "    <tr>\n",
       "      <th>1</th>\n",
       "      <td>2398795</td>\n",
       "      <td>1</td>\n",
       "      <td>2</td>\n",
       "      <td>3</td>\n",
       "      <td>7</td>\n",
       "      <td>15.0</td>\n",
       "      <td>196</td>\n",
       "      <td>1</td>\n",
       "      <td>1</td>\n",
       "      <td>Soda</td>\n",
       "      <td>77</td>\n",
       "      <td>7</td>\n",
       "      <td>9.0</td>\n",
       "      <td>both</td>\n",
       "      <td>Mid-range product</td>\n",
       "      <td>Regularly busy</td>\n",
       "      <td>Least busy</td>\n",
       "      <td>Average orders</td>\n",
       "      <td>10</td>\n",
       "      <td>New customer</td>\n",
       "      <td>6.367797</td>\n",
       "      <td>Low Spender</td>\n",
       "      <td>20.5</td>\n",
       "      <td>Non-frequent customer</td>\n",
       "      <td>Female</td>\n",
       "      <td>Alabama</td>\n",
       "      <td>31</td>\n",
       "      <td>2/17/2019</td>\n",
       "      <td>3</td>\n",
       "      <td>married</td>\n",
       "      <td>40423</td>\n",
       "    </tr>\n",
       "    <tr>\n",
       "      <th>2</th>\n",
       "      <td>473747</td>\n",
       "      <td>1</td>\n",
       "      <td>3</td>\n",
       "      <td>3</td>\n",
       "      <td>12</td>\n",
       "      <td>21.0</td>\n",
       "      <td>196</td>\n",
       "      <td>1</td>\n",
       "      <td>1</td>\n",
       "      <td>Soda</td>\n",
       "      <td>77</td>\n",
       "      <td>7</td>\n",
       "      <td>9.0</td>\n",
       "      <td>both</td>\n",
       "      <td>Mid-range product</td>\n",
       "      <td>Regularly busy</td>\n",
       "      <td>Least busy</td>\n",
       "      <td>Most orders</td>\n",
       "      <td>10</td>\n",
       "      <td>New customer</td>\n",
       "      <td>6.367797</td>\n",
       "      <td>Low Spender</td>\n",
       "      <td>20.5</td>\n",
       "      <td>Non-frequent customer</td>\n",
       "      <td>Female</td>\n",
       "      <td>Alabama</td>\n",
       "      <td>31</td>\n",
       "      <td>2/17/2019</td>\n",
       "      <td>3</td>\n",
       "      <td>married</td>\n",
       "      <td>40423</td>\n",
       "    </tr>\n",
       "    <tr>\n",
       "      <th>3</th>\n",
       "      <td>2254736</td>\n",
       "      <td>1</td>\n",
       "      <td>4</td>\n",
       "      <td>4</td>\n",
       "      <td>7</td>\n",
       "      <td>29.0</td>\n",
       "      <td>196</td>\n",
       "      <td>1</td>\n",
       "      <td>1</td>\n",
       "      <td>Soda</td>\n",
       "      <td>77</td>\n",
       "      <td>7</td>\n",
       "      <td>9.0</td>\n",
       "      <td>both</td>\n",
       "      <td>Mid-range product</td>\n",
       "      <td>Least busy</td>\n",
       "      <td>Least busy</td>\n",
       "      <td>Average orders</td>\n",
       "      <td>10</td>\n",
       "      <td>New customer</td>\n",
       "      <td>6.367797</td>\n",
       "      <td>Low Spender</td>\n",
       "      <td>20.5</td>\n",
       "      <td>Non-frequent customer</td>\n",
       "      <td>Female</td>\n",
       "      <td>Alabama</td>\n",
       "      <td>31</td>\n",
       "      <td>2/17/2019</td>\n",
       "      <td>3</td>\n",
       "      <td>married</td>\n",
       "      <td>40423</td>\n",
       "    </tr>\n",
       "    <tr>\n",
       "      <th>4</th>\n",
       "      <td>431534</td>\n",
       "      <td>1</td>\n",
       "      <td>5</td>\n",
       "      <td>4</td>\n",
       "      <td>15</td>\n",
       "      <td>28.0</td>\n",
       "      <td>196</td>\n",
       "      <td>1</td>\n",
       "      <td>1</td>\n",
       "      <td>Soda</td>\n",
       "      <td>77</td>\n",
       "      <td>7</td>\n",
       "      <td>9.0</td>\n",
       "      <td>both</td>\n",
       "      <td>Mid-range product</td>\n",
       "      <td>Least busy</td>\n",
       "      <td>Least busy</td>\n",
       "      <td>Most orders</td>\n",
       "      <td>10</td>\n",
       "      <td>New customer</td>\n",
       "      <td>6.367797</td>\n",
       "      <td>Low Spender</td>\n",
       "      <td>20.5</td>\n",
       "      <td>Non-frequent customer</td>\n",
       "      <td>Female</td>\n",
       "      <td>Alabama</td>\n",
       "      <td>31</td>\n",
       "      <td>2/17/2019</td>\n",
       "      <td>3</td>\n",
       "      <td>married</td>\n",
       "      <td>40423</td>\n",
       "    </tr>\n",
       "  </tbody>\n",
       "</table>\n",
       "</div>"
      ],
      "text/plain": [
       "   order_id  user_id  order_number  orders_day_of_week  orders_hour_of_day  \\\n",
       "0   2539329        1             1                   2                   8   \n",
       "1   2398795        1             2                   3                   7   \n",
       "2    473747        1             3                   3                  12   \n",
       "3   2254736        1             4                   4                   7   \n",
       "4    431534        1             5                   4                  15   \n",
       "\n",
       "   days_since_prior_order  product_id  add_to_cart_order  reordered  \\\n",
       "0                     NaN         196                  1          0   \n",
       "1                    15.0         196                  1          1   \n",
       "2                    21.0         196                  1          1   \n",
       "3                    29.0         196                  1          1   \n",
       "4                    28.0         196                  1          1   \n",
       "\n",
       "  product_name  aisle_id  department_id  prices _merge    price_range_loc  \\\n",
       "0         Soda        77              7     9.0   both  Mid-range product   \n",
       "1         Soda        77              7     9.0   both  Mid-range product   \n",
       "2         Soda        77              7     9.0   both  Mid-range product   \n",
       "3         Soda        77              7     9.0   both  Mid-range product   \n",
       "4         Soda        77              7     9.0   both  Mid-range product   \n",
       "\n",
       "      busiest_day    busiest_days busiest_period_of_day  max_order  \\\n",
       "0  Regularly busy  Regularly busy        Average orders         10   \n",
       "1  Regularly busy      Least busy        Average orders         10   \n",
       "2  Regularly busy      Least busy           Most orders         10   \n",
       "3      Least busy      Least busy        Average orders         10   \n",
       "4      Least busy      Least busy           Most orders         10   \n",
       "\n",
       "   loyalty_flag  average_spending spending_flag  purchase_frequency  \\\n",
       "0  New customer          6.367797   Low Spender                20.5   \n",
       "1  New customer          6.367797   Low Spender                20.5   \n",
       "2  New customer          6.367797   Low Spender                20.5   \n",
       "3  New customer          6.367797   Low Spender                20.5   \n",
       "4  New customer          6.367797   Low Spender                20.5   \n",
       "\n",
       "          frequency_flag  gender    state  age date_joined  no_of_dependants  \\\n",
       "0  Non-frequent customer  Female  Alabama   31   2/17/2019                 3   \n",
       "1  Non-frequent customer  Female  Alabama   31   2/17/2019                 3   \n",
       "2  Non-frequent customer  Female  Alabama   31   2/17/2019                 3   \n",
       "3  Non-frequent customer  Female  Alabama   31   2/17/2019                 3   \n",
       "4  Non-frequent customer  Female  Alabama   31   2/17/2019                 3   \n",
       "\n",
       "  relationship_status  income  \n",
       "0             married   40423  \n",
       "1             married   40423  \n",
       "2             married   40423  \n",
       "3             married   40423  \n",
       "4             married   40423  "
      ]
     },
     "execution_count": 5,
     "metadata": {},
     "output_type": "execute_result"
    }
   ],
   "source": [
    "# Checking for possible privacy issues\n",
    "pd.set_option('display.max_columns', None)\n",
    "df.head()"
   ]
  },
  {
   "cell_type": "code",
   "execution_count": null,
   "id": "adc95348",
   "metadata": {},
   "outputs": [],
   "source": [
    "# Excludiding columns 'first_name' and 'last_name' since it could give conclusions about the customers identity\n",
    "df.drop(['first_name', 'last_name'],inplace=True, axis=1)\n",
    "df.head()"
   ]
  },
  {
   "cell_type": "markdown",
   "id": "a793bbd6",
   "metadata": {},
   "source": [
    "### 3. Regional segmentation <a name=\"paragraph2\"></a>"
   ]
  },
  {
   "cell_type": "code",
   "execution_count": 5,
   "id": "1ce1aac2",
   "metadata": {},
   "outputs": [],
   "source": [
    "# Creating list of states in Northeast region\n",
    "Northeast=['Maine','New Hampshire','Vermont','Massachusetts','Rhode Island','Connecticut','New York','Pennsylvania'\n",
    "        ,'New Jersey']"
   ]
  },
  {
   "cell_type": "code",
   "execution_count": 6,
   "id": "8c41ea38",
   "metadata": {},
   "outputs": [],
   "source": [
    "# Creating list of states in Midwest region\n",
    "Midwest=['Wisconsin','Michigan','Illinois','Indiana','Ohio','North Dakota','South Dakota','Nebraska','Kansas'\n",
    "         ,'Minnesota','Iowa','Missouri']"
   ]
  },
  {
   "cell_type": "code",
   "execution_count": 7,
   "id": "4d93afc9",
   "metadata": {},
   "outputs": [],
   "source": [
    "# Creating list of states in south region\n",
    "South=['Delaware','Maryland','District of Columbia','Virginia','West Virginia','North Carolina','South Carolina'\n",
    "       ,'Georgia','Florida','Kentucky','Tennessee','Mississippi','Alabama','Oklahoma','Texas','Arkansas','Louisiana']"
   ]
  },
  {
   "cell_type": "code",
   "execution_count": 8,
   "id": "43f5f404",
   "metadata": {},
   "outputs": [],
   "source": [
    "# Creating list of states in west region\n",
    "West=['Idaho','Montana','Wyoming','Nevada','Utah','Colorado','Arizona','New Mexico','Alaska','Washington','Oregon',\n",
    "      'California','Hawaii']"
   ]
  },
  {
   "cell_type": "code",
   "execution_count": 9,
   "id": "cb7e157e",
   "metadata": {},
   "outputs": [],
   "source": [
    "# Creating loop for region column\n",
    "result=[]\n",
    "for state in df['state']:\n",
    "    if state in Northeast:\n",
    "        result.append('Northeast')\n",
    "    elif state in Midwest:\n",
    "        result.append('Midwest')\n",
    "    elif state in South:\n",
    "        result.append('South')\n",
    "    else:\n",
    "        result.append('West')"
   ]
  },
  {
   "cell_type": "code",
   "execution_count": 10,
   "id": "ece071d3",
   "metadata": {},
   "outputs": [],
   "source": [
    "# Adding column to data frame\n",
    "df['region'] = result"
   ]
  },
  {
   "cell_type": "code",
   "execution_count": 11,
   "id": "8a0b7147",
   "metadata": {},
   "outputs": [
    {
     "data": {
      "text/plain": [
       "South        10791885\n",
       "West          8292913\n",
       "Midwest       7597325\n",
       "Northeast     5722736\n",
       "Name: region, dtype: int64"
      ]
     },
     "execution_count": 11,
     "metadata": {},
     "output_type": "execute_result"
    }
   ],
   "source": [
    "# Displaying result by counting entries of 'region' column\n",
    "df['region'].value_counts()"
   ]
  },
  {
   "cell_type": "code",
   "execution_count": 12,
   "id": "6ea22189",
   "metadata": {},
   "outputs": [
    {
     "data": {
      "text/html": [
       "<div>\n",
       "<style scoped>\n",
       "    .dataframe tbody tr th:only-of-type {\n",
       "        vertical-align: middle;\n",
       "    }\n",
       "\n",
       "    .dataframe tbody tr th {\n",
       "        vertical-align: top;\n",
       "    }\n",
       "\n",
       "    .dataframe thead tr th {\n",
       "        text-align: left;\n",
       "    }\n",
       "\n",
       "    .dataframe thead tr:last-of-type th {\n",
       "        text-align: right;\n",
       "    }\n",
       "</style>\n",
       "<table border=\"1\" class=\"dataframe\">\n",
       "  <thead>\n",
       "    <tr>\n",
       "      <th></th>\n",
       "      <th colspan=\"3\" halign=\"left\">prices</th>\n",
       "    </tr>\n",
       "    <tr>\n",
       "      <th></th>\n",
       "      <th>mean</th>\n",
       "      <th>min</th>\n",
       "      <th>max</th>\n",
       "    </tr>\n",
       "    <tr>\n",
       "      <th>region</th>\n",
       "      <th></th>\n",
       "      <th></th>\n",
       "      <th></th>\n",
       "    </tr>\n",
       "  </thead>\n",
       "  <tbody>\n",
       "    <tr>\n",
       "      <th>Midwest</th>\n",
       "      <td>7.792584</td>\n",
       "      <td>1.0</td>\n",
       "      <td>25.0</td>\n",
       "    </tr>\n",
       "    <tr>\n",
       "      <th>Northeast</th>\n",
       "      <td>7.782409</td>\n",
       "      <td>1.0</td>\n",
       "      <td>25.0</td>\n",
       "    </tr>\n",
       "    <tr>\n",
       "      <th>South</th>\n",
       "      <td>7.794918</td>\n",
       "      <td>1.0</td>\n",
       "      <td>25.0</td>\n",
       "    </tr>\n",
       "    <tr>\n",
       "      <th>West</th>\n",
       "      <td>7.790355</td>\n",
       "      <td>1.0</td>\n",
       "      <td>25.0</td>\n",
       "    </tr>\n",
       "  </tbody>\n",
       "</table>\n",
       "</div>"
      ],
      "text/plain": [
       "             prices           \n",
       "               mean  min   max\n",
       "region                        \n",
       "Midwest    7.792584  1.0  25.0\n",
       "Northeast  7.782409  1.0  25.0\n",
       "South      7.794918  1.0  25.0\n",
       "West       7.790355  1.0  25.0"
      ]
     },
     "execution_count": 12,
     "metadata": {},
     "output_type": "execute_result"
    }
   ],
   "source": [
    "# Descriptive statistics by region\n",
    "df.groupby('region').agg({'prices': ['mean', 'min', 'max']})"
   ]
  },
  {
   "cell_type": "markdown",
   "id": "94db4246",
   "metadata": {},
   "source": [
    "#### All US regions have more or less the same mean and they all have the same minimum and maximum prices."
   ]
  },
  {
   "cell_type": "code",
   "execution_count": 13,
   "id": "b4bcbd9d",
   "metadata": {},
   "outputs": [
    {
     "data": {
      "text/html": [
       "<div>\n",
       "<style scoped>\n",
       "    .dataframe tbody tr th:only-of-type {\n",
       "        vertical-align: middle;\n",
       "    }\n",
       "\n",
       "    .dataframe tbody tr th {\n",
       "        vertical-align: top;\n",
       "    }\n",
       "\n",
       "    .dataframe thead th {\n",
       "        text-align: right;\n",
       "    }\n",
       "</style>\n",
       "<table border=\"1\" class=\"dataframe\">\n",
       "  <thead>\n",
       "    <tr style=\"text-align: right;\">\n",
       "      <th>spending_flag</th>\n",
       "      <th>High Spender</th>\n",
       "      <th>Low Spender</th>\n",
       "    </tr>\n",
       "    <tr>\n",
       "      <th>region</th>\n",
       "      <th></th>\n",
       "      <th></th>\n",
       "    </tr>\n",
       "  </thead>\n",
       "  <tbody>\n",
       "    <tr>\n",
       "      <th>Midwest</th>\n",
       "      <td>0.020530</td>\n",
       "      <td>0.979470</td>\n",
       "    </tr>\n",
       "    <tr>\n",
       "      <th>Northeast</th>\n",
       "      <td>0.018911</td>\n",
       "      <td>0.981089</td>\n",
       "    </tr>\n",
       "    <tr>\n",
       "      <th>South</th>\n",
       "      <td>0.019430</td>\n",
       "      <td>0.980570</td>\n",
       "    </tr>\n",
       "    <tr>\n",
       "      <th>West</th>\n",
       "      <td>0.019336</td>\n",
       "      <td>0.980664</td>\n",
       "    </tr>\n",
       "  </tbody>\n",
       "</table>\n",
       "</div>"
      ],
      "text/plain": [
       "spending_flag  High Spender  Low Spender\n",
       "region                                  \n",
       "Midwest            0.020530     0.979470\n",
       "Northeast          0.018911     0.981089\n",
       "South              0.019430     0.980570\n",
       "West               0.019336     0.980664"
      ]
     },
     "execution_count": 13,
     "metadata": {},
     "output_type": "execute_result"
    }
   ],
   "source": [
    "# Creating crosstab between region and spending\n",
    "xtab_1 = pd.crosstab(df['region'],df['spending_flag'], normalize='index')\n",
    "xtab_1"
   ]
  },
  {
   "cell_type": "markdown",
   "id": "4621f884",
   "metadata": {},
   "source": [
    "#### There isn't a noticeable different regarding spending habits by US regions, as in all four regions the majority of customers are 'low spender'."
   ]
  },
  {
   "cell_type": "markdown",
   "id": "f0dc418f",
   "metadata": {},
   "source": [
    "### 4. Low-activity customers <a name=\"paragraph3\"></a>"
   ]
  },
  {
   "cell_type": "code",
   "execution_count": 14,
   "id": "61224df9",
   "metadata": {},
   "outputs": [],
   "source": [
    "# Creating new column for number of orders per user by counting orders per user_id\n",
    "df['total_orders'] = df.groupby(['user_id']).user_id.transform('count')"
   ]
  },
  {
   "cell_type": "code",
   "execution_count": 16,
   "id": "ce52643e",
   "metadata": {},
   "outputs": [],
   "source": [
    "# Creating activity flag\n",
    "df.loc[df['total_orders'] < 5, 'activity_flag'] = 'low activity'\n",
    "df.loc[df['total_orders'] >= 5, 'activity_flag'] = 'regular activity'"
   ]
  },
  {
   "cell_type": "code",
   "execution_count": 17,
   "id": "68889f97",
   "metadata": {},
   "outputs": [
    {
     "data": {
      "text/html": [
       "<div>\n",
       "<style scoped>\n",
       "    .dataframe tbody tr th:only-of-type {\n",
       "        vertical-align: middle;\n",
       "    }\n",
       "\n",
       "    .dataframe tbody tr th {\n",
       "        vertical-align: top;\n",
       "    }\n",
       "\n",
       "    .dataframe thead th {\n",
       "        text-align: right;\n",
       "    }\n",
       "</style>\n",
       "<table border=\"1\" class=\"dataframe\">\n",
       "  <thead>\n",
       "    <tr style=\"text-align: right;\">\n",
       "      <th></th>\n",
       "      <th>order_id</th>\n",
       "      <th>user_id</th>\n",
       "      <th>order_number</th>\n",
       "      <th>orders_day_of_week</th>\n",
       "      <th>orders_hour_of_day</th>\n",
       "      <th>days_since_prior_order</th>\n",
       "      <th>product_id</th>\n",
       "      <th>add_to_cart_order</th>\n",
       "      <th>reordered</th>\n",
       "      <th>product_name</th>\n",
       "      <th>aisle_id</th>\n",
       "      <th>department_id</th>\n",
       "      <th>prices</th>\n",
       "      <th>_merge</th>\n",
       "      <th>price_range_loc</th>\n",
       "      <th>busiest_day</th>\n",
       "      <th>busiest_days</th>\n",
       "      <th>busiest_period_of_day</th>\n",
       "      <th>max_order</th>\n",
       "      <th>loyalty_flag</th>\n",
       "      <th>average_spending</th>\n",
       "      <th>spending_flag</th>\n",
       "      <th>purchase_frequency</th>\n",
       "      <th>frequency_flag</th>\n",
       "      <th>gender</th>\n",
       "      <th>state</th>\n",
       "      <th>age</th>\n",
       "      <th>date_joined</th>\n",
       "      <th>no_of_dependants</th>\n",
       "      <th>relationship_status</th>\n",
       "      <th>income</th>\n",
       "      <th>region</th>\n",
       "      <th>total_orders</th>\n",
       "      <th>activity_flag</th>\n",
       "    </tr>\n",
       "  </thead>\n",
       "  <tbody>\n",
       "    <tr>\n",
       "      <th>0</th>\n",
       "      <td>2539329</td>\n",
       "      <td>1</td>\n",
       "      <td>1</td>\n",
       "      <td>2</td>\n",
       "      <td>8</td>\n",
       "      <td>NaN</td>\n",
       "      <td>196</td>\n",
       "      <td>1</td>\n",
       "      <td>0</td>\n",
       "      <td>Soda</td>\n",
       "      <td>77</td>\n",
       "      <td>7</td>\n",
       "      <td>9.0</td>\n",
       "      <td>both</td>\n",
       "      <td>Mid-range product</td>\n",
       "      <td>Regularly busy</td>\n",
       "      <td>Regularly busy</td>\n",
       "      <td>Average orders</td>\n",
       "      <td>10</td>\n",
       "      <td>New customer</td>\n",
       "      <td>6.367797</td>\n",
       "      <td>Low Spender</td>\n",
       "      <td>20.5</td>\n",
       "      <td>Non-frequent customer</td>\n",
       "      <td>Female</td>\n",
       "      <td>Alabama</td>\n",
       "      <td>31</td>\n",
       "      <td>2/17/2019</td>\n",
       "      <td>3</td>\n",
       "      <td>married</td>\n",
       "      <td>40423</td>\n",
       "      <td>South</td>\n",
       "      <td>59</td>\n",
       "      <td>regular activity</td>\n",
       "    </tr>\n",
       "    <tr>\n",
       "      <th>1</th>\n",
       "      <td>2398795</td>\n",
       "      <td>1</td>\n",
       "      <td>2</td>\n",
       "      <td>3</td>\n",
       "      <td>7</td>\n",
       "      <td>15.0</td>\n",
       "      <td>196</td>\n",
       "      <td>1</td>\n",
       "      <td>1</td>\n",
       "      <td>Soda</td>\n",
       "      <td>77</td>\n",
       "      <td>7</td>\n",
       "      <td>9.0</td>\n",
       "      <td>both</td>\n",
       "      <td>Mid-range product</td>\n",
       "      <td>Regularly busy</td>\n",
       "      <td>Least busy</td>\n",
       "      <td>Average orders</td>\n",
       "      <td>10</td>\n",
       "      <td>New customer</td>\n",
       "      <td>6.367797</td>\n",
       "      <td>Low Spender</td>\n",
       "      <td>20.5</td>\n",
       "      <td>Non-frequent customer</td>\n",
       "      <td>Female</td>\n",
       "      <td>Alabama</td>\n",
       "      <td>31</td>\n",
       "      <td>2/17/2019</td>\n",
       "      <td>3</td>\n",
       "      <td>married</td>\n",
       "      <td>40423</td>\n",
       "      <td>South</td>\n",
       "      <td>59</td>\n",
       "      <td>regular activity</td>\n",
       "    </tr>\n",
       "    <tr>\n",
       "      <th>2</th>\n",
       "      <td>473747</td>\n",
       "      <td>1</td>\n",
       "      <td>3</td>\n",
       "      <td>3</td>\n",
       "      <td>12</td>\n",
       "      <td>21.0</td>\n",
       "      <td>196</td>\n",
       "      <td>1</td>\n",
       "      <td>1</td>\n",
       "      <td>Soda</td>\n",
       "      <td>77</td>\n",
       "      <td>7</td>\n",
       "      <td>9.0</td>\n",
       "      <td>both</td>\n",
       "      <td>Mid-range product</td>\n",
       "      <td>Regularly busy</td>\n",
       "      <td>Least busy</td>\n",
       "      <td>Most orders</td>\n",
       "      <td>10</td>\n",
       "      <td>New customer</td>\n",
       "      <td>6.367797</td>\n",
       "      <td>Low Spender</td>\n",
       "      <td>20.5</td>\n",
       "      <td>Non-frequent customer</td>\n",
       "      <td>Female</td>\n",
       "      <td>Alabama</td>\n",
       "      <td>31</td>\n",
       "      <td>2/17/2019</td>\n",
       "      <td>3</td>\n",
       "      <td>married</td>\n",
       "      <td>40423</td>\n",
       "      <td>South</td>\n",
       "      <td>59</td>\n",
       "      <td>regular activity</td>\n",
       "    </tr>\n",
       "    <tr>\n",
       "      <th>3</th>\n",
       "      <td>2254736</td>\n",
       "      <td>1</td>\n",
       "      <td>4</td>\n",
       "      <td>4</td>\n",
       "      <td>7</td>\n",
       "      <td>29.0</td>\n",
       "      <td>196</td>\n",
       "      <td>1</td>\n",
       "      <td>1</td>\n",
       "      <td>Soda</td>\n",
       "      <td>77</td>\n",
       "      <td>7</td>\n",
       "      <td>9.0</td>\n",
       "      <td>both</td>\n",
       "      <td>Mid-range product</td>\n",
       "      <td>Least busy</td>\n",
       "      <td>Least busy</td>\n",
       "      <td>Average orders</td>\n",
       "      <td>10</td>\n",
       "      <td>New customer</td>\n",
       "      <td>6.367797</td>\n",
       "      <td>Low Spender</td>\n",
       "      <td>20.5</td>\n",
       "      <td>Non-frequent customer</td>\n",
       "      <td>Female</td>\n",
       "      <td>Alabama</td>\n",
       "      <td>31</td>\n",
       "      <td>2/17/2019</td>\n",
       "      <td>3</td>\n",
       "      <td>married</td>\n",
       "      <td>40423</td>\n",
       "      <td>South</td>\n",
       "      <td>59</td>\n",
       "      <td>regular activity</td>\n",
       "    </tr>\n",
       "    <tr>\n",
       "      <th>4</th>\n",
       "      <td>431534</td>\n",
       "      <td>1</td>\n",
       "      <td>5</td>\n",
       "      <td>4</td>\n",
       "      <td>15</td>\n",
       "      <td>28.0</td>\n",
       "      <td>196</td>\n",
       "      <td>1</td>\n",
       "      <td>1</td>\n",
       "      <td>Soda</td>\n",
       "      <td>77</td>\n",
       "      <td>7</td>\n",
       "      <td>9.0</td>\n",
       "      <td>both</td>\n",
       "      <td>Mid-range product</td>\n",
       "      <td>Least busy</td>\n",
       "      <td>Least busy</td>\n",
       "      <td>Most orders</td>\n",
       "      <td>10</td>\n",
       "      <td>New customer</td>\n",
       "      <td>6.367797</td>\n",
       "      <td>Low Spender</td>\n",
       "      <td>20.5</td>\n",
       "      <td>Non-frequent customer</td>\n",
       "      <td>Female</td>\n",
       "      <td>Alabama</td>\n",
       "      <td>31</td>\n",
       "      <td>2/17/2019</td>\n",
       "      <td>3</td>\n",
       "      <td>married</td>\n",
       "      <td>40423</td>\n",
       "      <td>South</td>\n",
       "      <td>59</td>\n",
       "      <td>regular activity</td>\n",
       "    </tr>\n",
       "  </tbody>\n",
       "</table>\n",
       "</div>"
      ],
      "text/plain": [
       "   order_id  user_id  order_number  orders_day_of_week  orders_hour_of_day  \\\n",
       "0   2539329        1             1                   2                   8   \n",
       "1   2398795        1             2                   3                   7   \n",
       "2    473747        1             3                   3                  12   \n",
       "3   2254736        1             4                   4                   7   \n",
       "4    431534        1             5                   4                  15   \n",
       "\n",
       "   days_since_prior_order  product_id  add_to_cart_order  reordered  \\\n",
       "0                     NaN         196                  1          0   \n",
       "1                    15.0         196                  1          1   \n",
       "2                    21.0         196                  1          1   \n",
       "3                    29.0         196                  1          1   \n",
       "4                    28.0         196                  1          1   \n",
       "\n",
       "  product_name  aisle_id  department_id  prices _merge    price_range_loc  \\\n",
       "0         Soda        77              7     9.0   both  Mid-range product   \n",
       "1         Soda        77              7     9.0   both  Mid-range product   \n",
       "2         Soda        77              7     9.0   both  Mid-range product   \n",
       "3         Soda        77              7     9.0   both  Mid-range product   \n",
       "4         Soda        77              7     9.0   both  Mid-range product   \n",
       "\n",
       "      busiest_day    busiest_days busiest_period_of_day  max_order  \\\n",
       "0  Regularly busy  Regularly busy        Average orders         10   \n",
       "1  Regularly busy      Least busy        Average orders         10   \n",
       "2  Regularly busy      Least busy           Most orders         10   \n",
       "3      Least busy      Least busy        Average orders         10   \n",
       "4      Least busy      Least busy           Most orders         10   \n",
       "\n",
       "   loyalty_flag  average_spending spending_flag  purchase_frequency  \\\n",
       "0  New customer          6.367797   Low Spender                20.5   \n",
       "1  New customer          6.367797   Low Spender                20.5   \n",
       "2  New customer          6.367797   Low Spender                20.5   \n",
       "3  New customer          6.367797   Low Spender                20.5   \n",
       "4  New customer          6.367797   Low Spender                20.5   \n",
       "\n",
       "          frequency_flag  gender    state  age date_joined  no_of_dependants  \\\n",
       "0  Non-frequent customer  Female  Alabama   31   2/17/2019                 3   \n",
       "1  Non-frequent customer  Female  Alabama   31   2/17/2019                 3   \n",
       "2  Non-frequent customer  Female  Alabama   31   2/17/2019                 3   \n",
       "3  Non-frequent customer  Female  Alabama   31   2/17/2019                 3   \n",
       "4  Non-frequent customer  Female  Alabama   31   2/17/2019                 3   \n",
       "\n",
       "  relationship_status  income region  total_orders     activity_flag  \n",
       "0             married   40423  South            59  regular activity  \n",
       "1             married   40423  South            59  regular activity  \n",
       "2             married   40423  South            59  regular activity  \n",
       "3             married   40423  South            59  regular activity  \n",
       "4             married   40423  South            59  regular activity  "
      ]
     },
     "execution_count": 17,
     "metadata": {},
     "output_type": "execute_result"
    }
   ],
   "source": [
    "# Displaying outpot to check new activity flag\n",
    "df.head()"
   ]
  },
  {
   "cell_type": "code",
   "execution_count": 18,
   "id": "f24a77ee",
   "metadata": {},
   "outputs": [
    {
     "data": {
      "text/plain": [
       "regular activity    32401975\n",
       "low activity            2884\n",
       "Name: activity_flag, dtype: int64"
      ]
     },
     "execution_count": 18,
     "metadata": {},
     "output_type": "execute_result"
    }
   ],
   "source": [
    "# Counting entries for activity flag\n",
    "df['activity_flag'].value_counts(dropna=False)"
   ]
  },
  {
   "cell_type": "markdown",
   "id": "b7eada81",
   "metadata": {},
   "source": [
    "#### There are 2884 low activity users in the data frame."
   ]
  },
  {
   "cell_type": "code",
   "execution_count": null,
   "id": "0a62eb93",
   "metadata": {},
   "outputs": [],
   "source": [
    "# Creating a subset of low activity customer entries\n",
    "low_activity_customers = df[df['activity_flag'] == 'low activity']"
   ]
  },
  {
   "cell_type": "code",
   "execution_count": 21,
   "id": "224b7b91",
   "metadata": {},
   "outputs": [
    {
     "data": {
      "text/plain": [
       "(2884, 34)"
      ]
     },
     "execution_count": 21,
     "metadata": {},
     "output_type": "execute_result"
    }
   ],
   "source": [
    "low_activity_customers.shape"
   ]
  },
  {
   "cell_type": "code",
   "execution_count": 22,
   "id": "5cfb1b44",
   "metadata": {},
   "outputs": [],
   "source": [
    "# Exporting subset of low activity customer entries\n",
    "low_activity_customers.to_pickle(os.path.join(path, '02 Data','Prepared Data', 'df_low_activity_customers.pkl'))"
   ]
  },
  {
   "cell_type": "code",
   "execution_count": 22,
   "id": "15c6a541",
   "metadata": {},
   "outputs": [],
   "source": [
    "# Excluding low activity customer entries from data frame and checking output\n",
    "df.drop(df[df['activity_flag'] == 'low activity'].index, inplace = True)"
   ]
  },
  {
   "cell_type": "code",
   "execution_count": null,
   "id": "1f1695c3",
   "metadata": {},
   "outputs": [],
   "source": [
    "df['activity_flag'].value_counts()"
   ]
  },
  {
   "cell_type": "code",
   "execution_count": 23,
   "id": "4c43edf8",
   "metadata": {},
   "outputs": [
    {
     "data": {
      "text/html": [
       "<div>\n",
       "<style scoped>\n",
       "    .dataframe tbody tr th:only-of-type {\n",
       "        vertical-align: middle;\n",
       "    }\n",
       "\n",
       "    .dataframe tbody tr th {\n",
       "        vertical-align: top;\n",
       "    }\n",
       "\n",
       "    .dataframe thead th {\n",
       "        text-align: right;\n",
       "    }\n",
       "</style>\n",
       "<table border=\"1\" class=\"dataframe\">\n",
       "  <thead>\n",
       "    <tr style=\"text-align: right;\">\n",
       "      <th></th>\n",
       "      <th>order_id</th>\n",
       "      <th>user_id</th>\n",
       "      <th>order_number</th>\n",
       "      <th>orders_day_of_week</th>\n",
       "      <th>orders_hour_of_day</th>\n",
       "      <th>days_since_prior_order</th>\n",
       "      <th>product_id</th>\n",
       "      <th>add_to_cart_order</th>\n",
       "      <th>reordered</th>\n",
       "      <th>product_name</th>\n",
       "      <th>aisle_id</th>\n",
       "      <th>department_id</th>\n",
       "      <th>prices</th>\n",
       "      <th>_merge</th>\n",
       "      <th>price_range_loc</th>\n",
       "      <th>busiest_day</th>\n",
       "      <th>busiest_days</th>\n",
       "      <th>busiest_period_of_day</th>\n",
       "      <th>max_order</th>\n",
       "      <th>loyalty_flag</th>\n",
       "      <th>average_spending</th>\n",
       "      <th>spending_flag</th>\n",
       "      <th>purchase_frequency</th>\n",
       "      <th>frequency_flag</th>\n",
       "      <th>gender</th>\n",
       "      <th>state</th>\n",
       "      <th>age</th>\n",
       "      <th>date_joined</th>\n",
       "      <th>no_of_dependants</th>\n",
       "      <th>relationship_status</th>\n",
       "      <th>income</th>\n",
       "      <th>region</th>\n",
       "      <th>total_orders</th>\n",
       "      <th>activity_flag</th>\n",
       "    </tr>\n",
       "  </thead>\n",
       "  <tbody>\n",
       "    <tr>\n",
       "      <th>0</th>\n",
       "      <td>2539329</td>\n",
       "      <td>1</td>\n",
       "      <td>1</td>\n",
       "      <td>2</td>\n",
       "      <td>8</td>\n",
       "      <td>NaN</td>\n",
       "      <td>196</td>\n",
       "      <td>1</td>\n",
       "      <td>0</td>\n",
       "      <td>Soda</td>\n",
       "      <td>77</td>\n",
       "      <td>7</td>\n",
       "      <td>9.0</td>\n",
       "      <td>both</td>\n",
       "      <td>Mid-range product</td>\n",
       "      <td>Regularly busy</td>\n",
       "      <td>Regularly busy</td>\n",
       "      <td>Average orders</td>\n",
       "      <td>10</td>\n",
       "      <td>New customer</td>\n",
       "      <td>6.367797</td>\n",
       "      <td>Low Spender</td>\n",
       "      <td>20.5</td>\n",
       "      <td>Non-frequent customer</td>\n",
       "      <td>Female</td>\n",
       "      <td>Alabama</td>\n",
       "      <td>31</td>\n",
       "      <td>2/17/2019</td>\n",
       "      <td>3</td>\n",
       "      <td>married</td>\n",
       "      <td>40423</td>\n",
       "      <td>South</td>\n",
       "      <td>59</td>\n",
       "      <td>regular activity</td>\n",
       "    </tr>\n",
       "    <tr>\n",
       "      <th>1</th>\n",
       "      <td>2398795</td>\n",
       "      <td>1</td>\n",
       "      <td>2</td>\n",
       "      <td>3</td>\n",
       "      <td>7</td>\n",
       "      <td>15.0</td>\n",
       "      <td>196</td>\n",
       "      <td>1</td>\n",
       "      <td>1</td>\n",
       "      <td>Soda</td>\n",
       "      <td>77</td>\n",
       "      <td>7</td>\n",
       "      <td>9.0</td>\n",
       "      <td>both</td>\n",
       "      <td>Mid-range product</td>\n",
       "      <td>Regularly busy</td>\n",
       "      <td>Least busy</td>\n",
       "      <td>Average orders</td>\n",
       "      <td>10</td>\n",
       "      <td>New customer</td>\n",
       "      <td>6.367797</td>\n",
       "      <td>Low Spender</td>\n",
       "      <td>20.5</td>\n",
       "      <td>Non-frequent customer</td>\n",
       "      <td>Female</td>\n",
       "      <td>Alabama</td>\n",
       "      <td>31</td>\n",
       "      <td>2/17/2019</td>\n",
       "      <td>3</td>\n",
       "      <td>married</td>\n",
       "      <td>40423</td>\n",
       "      <td>South</td>\n",
       "      <td>59</td>\n",
       "      <td>regular activity</td>\n",
       "    </tr>\n",
       "    <tr>\n",
       "      <th>2</th>\n",
       "      <td>473747</td>\n",
       "      <td>1</td>\n",
       "      <td>3</td>\n",
       "      <td>3</td>\n",
       "      <td>12</td>\n",
       "      <td>21.0</td>\n",
       "      <td>196</td>\n",
       "      <td>1</td>\n",
       "      <td>1</td>\n",
       "      <td>Soda</td>\n",
       "      <td>77</td>\n",
       "      <td>7</td>\n",
       "      <td>9.0</td>\n",
       "      <td>both</td>\n",
       "      <td>Mid-range product</td>\n",
       "      <td>Regularly busy</td>\n",
       "      <td>Least busy</td>\n",
       "      <td>Most orders</td>\n",
       "      <td>10</td>\n",
       "      <td>New customer</td>\n",
       "      <td>6.367797</td>\n",
       "      <td>Low Spender</td>\n",
       "      <td>20.5</td>\n",
       "      <td>Non-frequent customer</td>\n",
       "      <td>Female</td>\n",
       "      <td>Alabama</td>\n",
       "      <td>31</td>\n",
       "      <td>2/17/2019</td>\n",
       "      <td>3</td>\n",
       "      <td>married</td>\n",
       "      <td>40423</td>\n",
       "      <td>South</td>\n",
       "      <td>59</td>\n",
       "      <td>regular activity</td>\n",
       "    </tr>\n",
       "    <tr>\n",
       "      <th>3</th>\n",
       "      <td>2254736</td>\n",
       "      <td>1</td>\n",
       "      <td>4</td>\n",
       "      <td>4</td>\n",
       "      <td>7</td>\n",
       "      <td>29.0</td>\n",
       "      <td>196</td>\n",
       "      <td>1</td>\n",
       "      <td>1</td>\n",
       "      <td>Soda</td>\n",
       "      <td>77</td>\n",
       "      <td>7</td>\n",
       "      <td>9.0</td>\n",
       "      <td>both</td>\n",
       "      <td>Mid-range product</td>\n",
       "      <td>Least busy</td>\n",
       "      <td>Least busy</td>\n",
       "      <td>Average orders</td>\n",
       "      <td>10</td>\n",
       "      <td>New customer</td>\n",
       "      <td>6.367797</td>\n",
       "      <td>Low Spender</td>\n",
       "      <td>20.5</td>\n",
       "      <td>Non-frequent customer</td>\n",
       "      <td>Female</td>\n",
       "      <td>Alabama</td>\n",
       "      <td>31</td>\n",
       "      <td>2/17/2019</td>\n",
       "      <td>3</td>\n",
       "      <td>married</td>\n",
       "      <td>40423</td>\n",
       "      <td>South</td>\n",
       "      <td>59</td>\n",
       "      <td>regular activity</td>\n",
       "    </tr>\n",
       "    <tr>\n",
       "      <th>4</th>\n",
       "      <td>431534</td>\n",
       "      <td>1</td>\n",
       "      <td>5</td>\n",
       "      <td>4</td>\n",
       "      <td>15</td>\n",
       "      <td>28.0</td>\n",
       "      <td>196</td>\n",
       "      <td>1</td>\n",
       "      <td>1</td>\n",
       "      <td>Soda</td>\n",
       "      <td>77</td>\n",
       "      <td>7</td>\n",
       "      <td>9.0</td>\n",
       "      <td>both</td>\n",
       "      <td>Mid-range product</td>\n",
       "      <td>Least busy</td>\n",
       "      <td>Least busy</td>\n",
       "      <td>Most orders</td>\n",
       "      <td>10</td>\n",
       "      <td>New customer</td>\n",
       "      <td>6.367797</td>\n",
       "      <td>Low Spender</td>\n",
       "      <td>20.5</td>\n",
       "      <td>Non-frequent customer</td>\n",
       "      <td>Female</td>\n",
       "      <td>Alabama</td>\n",
       "      <td>31</td>\n",
       "      <td>2/17/2019</td>\n",
       "      <td>3</td>\n",
       "      <td>married</td>\n",
       "      <td>40423</td>\n",
       "      <td>South</td>\n",
       "      <td>59</td>\n",
       "      <td>regular activity</td>\n",
       "    </tr>\n",
       "  </tbody>\n",
       "</table>\n",
       "</div>"
      ],
      "text/plain": [
       "   order_id  user_id  order_number  orders_day_of_week  orders_hour_of_day  \\\n",
       "0   2539329        1             1                   2                   8   \n",
       "1   2398795        1             2                   3                   7   \n",
       "2    473747        1             3                   3                  12   \n",
       "3   2254736        1             4                   4                   7   \n",
       "4    431534        1             5                   4                  15   \n",
       "\n",
       "   days_since_prior_order  product_id  add_to_cart_order  reordered  \\\n",
       "0                     NaN         196                  1          0   \n",
       "1                    15.0         196                  1          1   \n",
       "2                    21.0         196                  1          1   \n",
       "3                    29.0         196                  1          1   \n",
       "4                    28.0         196                  1          1   \n",
       "\n",
       "  product_name  aisle_id  department_id  prices _merge    price_range_loc  \\\n",
       "0         Soda        77              7     9.0   both  Mid-range product   \n",
       "1         Soda        77              7     9.0   both  Mid-range product   \n",
       "2         Soda        77              7     9.0   both  Mid-range product   \n",
       "3         Soda        77              7     9.0   both  Mid-range product   \n",
       "4         Soda        77              7     9.0   both  Mid-range product   \n",
       "\n",
       "      busiest_day    busiest_days busiest_period_of_day  max_order  \\\n",
       "0  Regularly busy  Regularly busy        Average orders         10   \n",
       "1  Regularly busy      Least busy        Average orders         10   \n",
       "2  Regularly busy      Least busy           Most orders         10   \n",
       "3      Least busy      Least busy        Average orders         10   \n",
       "4      Least busy      Least busy           Most orders         10   \n",
       "\n",
       "   loyalty_flag  average_spending spending_flag  purchase_frequency  \\\n",
       "0  New customer          6.367797   Low Spender                20.5   \n",
       "1  New customer          6.367797   Low Spender                20.5   \n",
       "2  New customer          6.367797   Low Spender                20.5   \n",
       "3  New customer          6.367797   Low Spender                20.5   \n",
       "4  New customer          6.367797   Low Spender                20.5   \n",
       "\n",
       "          frequency_flag  gender    state  age date_joined  no_of_dependants  \\\n",
       "0  Non-frequent customer  Female  Alabama   31   2/17/2019                 3   \n",
       "1  Non-frequent customer  Female  Alabama   31   2/17/2019                 3   \n",
       "2  Non-frequent customer  Female  Alabama   31   2/17/2019                 3   \n",
       "3  Non-frequent customer  Female  Alabama   31   2/17/2019                 3   \n",
       "4  Non-frequent customer  Female  Alabama   31   2/17/2019                 3   \n",
       "\n",
       "  relationship_status  income region  total_orders     activity_flag  \n",
       "0             married   40423  South            59  regular activity  \n",
       "1             married   40423  South            59  regular activity  \n",
       "2             married   40423  South            59  regular activity  \n",
       "3             married   40423  South            59  regular activity  \n",
       "4             married   40423  South            59  regular activity  "
      ]
     },
     "execution_count": 23,
     "metadata": {},
     "output_type": "execute_result"
    }
   ],
   "source": [
    "# Checking data frame\n",
    "pd.set_option('display.max_columns', None)\n",
    "df.head()"
   ]
  },
  {
   "cell_type": "markdown",
   "id": "e286328e",
   "metadata": {},
   "source": [
    "### 5. Customer profiling <a name=\"paragraph4\"></a>"
   ]
  },
  {
   "cell_type": "markdown",
   "id": "a72f26be",
   "metadata": {},
   "source": [
    "### 5.1 Criteria <a name=\"subparagraph1\"></a>"
   ]
  },
  {
   "cell_type": "markdown",
   "id": "f71a2d6b",
   "metadata": {},
   "source": [
    "### 5.1.1 Age groups<a name=\"subsubparagraph1\"></a>"
   ]
  },
  {
   "cell_type": "code",
   "execution_count": 15,
   "id": "3e1e2774",
   "metadata": {},
   "outputs": [],
   "source": [
    "# Creating age groups for age of customers -> 18-24 '0', 25-64 '1' and 65 and older '2'\n",
    "df.loc[df['age'] <= 24 , 'age_group'] = 'Young adult'\n",
    "df.loc[(df['age'] >= 25) & (df['age'] < 64), 'age_group'] = 'Adult'\n",
    "df.loc[df['age'] >= 65, 'age_group'] = 'Senior'"
   ]
  },
  {
   "cell_type": "code",
   "execution_count": 16,
   "id": "c2465d6c",
   "metadata": {},
   "outputs": [
    {
     "data": {
      "text/plain": [
       "Adult          19728765\n",
       "Senior          8575084\n",
       "Young adult     3573001\n",
       "Name: age_group, dtype: int64"
      ]
     },
     "execution_count": 16,
     "metadata": {},
     "output_type": "execute_result"
    }
   ],
   "source": [
    "df['age_group'].value_counts()"
   ]
  },
  {
   "cell_type": "markdown",
   "id": "a048abe6",
   "metadata": {},
   "source": [
    "### 5.1.2 Income groups <a name=\"subsubparagraph2\"></a>"
   ]
  },
  {
   "cell_type": "code",
   "execution_count": 17,
   "id": "c85eeb54",
   "metadata": {},
   "outputs": [],
   "source": [
    "# Creating income groups based on https://www.pewresearch.org/fact-tank/2020/07/23/are-you-in-the-american-middle-class/\n",
    "# -> Low income < $52,200\n",
    "# -> Middle income $52,200 - $156,600\n",
    "# -> Upper income > $156,600\n",
    "df.loc[(df['income'] < 52000), 'income_group'] = 'Low income'\n",
    "df.loc[(df['income'] >= 52000) & (df['income'] < 156600), 'income_group'] = 'Middle income'\n",
    "df.loc[(df['income'] >= 156600), 'income_group'] = 'Upper income'"
   ]
  },
  {
   "cell_type": "code",
   "execution_count": 18,
   "id": "26a0cd6e",
   "metadata": {},
   "outputs": [
    {
     "data": {
      "text/plain": [
       "Middle income    25687633\n",
       "Low income        3879453\n",
       "Upper income      2837773\n",
       "Name: income_group, dtype: int64"
      ]
     },
     "execution_count": 18,
     "metadata": {},
     "output_type": "execute_result"
    }
   ],
   "source": [
    "df['income_group'].value_counts()"
   ]
  },
  {
   "cell_type": "markdown",
   "id": "9452c5c2",
   "metadata": {},
   "source": [
    "### 5.1.3 Number of dependants <a name=\"subsubparagraph3\"></a>"
   ]
  },
  {
   "cell_type": "code",
   "execution_count": 19,
   "id": "245165a7",
   "metadata": {},
   "outputs": [],
   "source": [
    "df.loc[(df['no_of_dependants'] == 0), 'familiy_status'] = 'No parent'\n",
    "df.loc[(df['no_of_dependants'] == 1), 'familiy_status'] = 'Parent'\n",
    "df.loc[(df['no_of_dependants'] == 2), 'familiy_status'] = 'Parent'\n",
    "df.loc[(df['no_of_dependants'] == 3), 'familiy_status'] = 'Parent'"
   ]
  },
  {
   "cell_type": "code",
   "execution_count": 20,
   "id": "cbe61c27",
   "metadata": {},
   "outputs": [
    {
     "data": {
      "text/plain": [
       "Parent       24307356\n",
       "No parent     8097503\n",
       "Name: familiy_status, dtype: int64"
      ]
     },
     "execution_count": 20,
     "metadata": {},
     "output_type": "execute_result"
    }
   ],
   "source": [
    "df['familiy_status'].value_counts()"
   ]
  },
  {
   "cell_type": "markdown",
   "id": "94e38401",
   "metadata": {},
   "source": [
    "### 5.1.4 Relationship status<a name=\"subsubparagraph4\"></a>"
   ]
  },
  {
   "cell_type": "code",
   "execution_count": 21,
   "id": "76ce0ebe",
   "metadata": {},
   "outputs": [],
   "source": [
    "df.loc[(df['relationship_status'] == 'married'), 'relationship_category'] = 'Relationship'\n",
    "df.loc[(df['relationship_status'] == 'single'), 'relationship_category'] = 'Single'\n",
    "df.loc[(df['relationship_status'] == 'divorced/widowed'), 'relationship_category'] = 'Single'\n",
    "df.loc[(df['relationship_status'] == 'living with parents and siblings'), 'relationship_category'] = 'Relationship'"
   ]
  },
  {
   "cell_type": "code",
   "execution_count": 22,
   "id": "078fe263",
   "metadata": {},
   "outputs": [
    {
     "data": {
      "text/plain": [
       "married                             22756753\n",
       "single                               5325691\n",
       "divorced/widowed                     2771812\n",
       "living with parents and siblings     1550603\n",
       "Name: relationship_status, dtype: int64"
      ]
     },
     "execution_count": 22,
     "metadata": {},
     "output_type": "execute_result"
    }
   ],
   "source": [
    "df['relationship_status'].value_counts()"
   ]
  },
  {
   "cell_type": "markdown",
   "id": "1e5d9d90",
   "metadata": {},
   "source": [
    "### 5.1.5 Goods<a name=\"subsubparagraph5\"></a>"
   ]
  },
  {
   "cell_type": "code",
   "execution_count": 23,
   "id": "036a26a6",
   "metadata": {},
   "outputs": [],
   "source": [
    "# Creating naming column for goods by department id 'goods'\n",
    "df.loc[(df['department_id'] == 1), 'goods_category'] = 'Food'\n",
    "df.loc[(df['department_id'] == 2), 'goods_category'] = 'Other'\n",
    "df.loc[(df['department_id'] == 3), 'goods_category'] = 'Food'\n",
    "df.loc[(df['department_id'] == 4), 'goods_category'] = 'Food'\n",
    "df.loc[(df['department_id'] == 5), 'goods_category'] = 'Alcohol'\n",
    "df.loc[(df['department_id'] == 6), 'goods_category'] = 'Food'\n",
    "df.loc[(df['department_id'] == 7), 'goods_category'] = 'Beverages'\n",
    "df.loc[(df['department_id'] == 8), 'goods_category'] = 'Pets'\n",
    "df.loc[(df['department_id'] == 9), 'goods_category'] = 'Food'\n",
    "df.loc[(df['department_id'] == 10), 'goods_category'] = 'Food'\n",
    "df.loc[(df['department_id'] == 11), 'goods_category'] = 'Personal care'\n",
    "df.loc[(df['department_id'] == 12), 'goods_category'] = 'Food'\n",
    "df.loc[(df['department_id'] == 13), 'goods_category'] = 'Food'\n",
    "df.loc[(df['department_id'] == 14), 'goods_category'] = 'Food'\n",
    "df.loc[(df['department_id'] == 15), 'goods_category'] = 'Food'\n",
    "df.loc[(df['department_id'] == 16), 'goods_category'] = 'Food'\n",
    "df.loc[(df['department_id'] == 17), 'goods_category'] = 'Household'\n",
    "df.loc[(df['department_id'] == 18), 'goods_category'] = 'Babies'\n",
    "df.loc[(df['department_id'] == 19), 'goods_category'] = 'Food'\n",
    "df.loc[(df['department_id'] == 20), 'goods_category'] = 'Food'\n",
    "df.loc[(df['department_id'] == 21), 'goods_category'] = 'Missing'"
   ]
  },
  {
   "cell_type": "code",
   "execution_count": 24,
   "id": "888979ad",
   "metadata": {},
   "outputs": [
    {
     "data": {
      "text/plain": [
       "Food             27749848\n",
       "Beverages         2688123\n",
       "Household          738666\n",
       "Personal care      447572\n",
       "Babies             423802\n",
       "Alcohol            153696\n",
       "Pets                97716\n",
       "Missing             69145\n",
       "Other               36291\n",
       "Name: goods_category, dtype: int64"
      ]
     },
     "execution_count": 24,
     "metadata": {},
     "output_type": "execute_result"
    }
   ],
   "source": [
    "df['goods_category'].value_counts()"
   ]
  },
  {
   "cell_type": "markdown",
   "id": "89265f77",
   "metadata": {},
   "source": [
    "### 5.2 Setup profiles <a name=\"subparagraph2\"></a>"
   ]
  },
  {
   "cell_type": "code",
   "execution_count": 25,
   "id": "5ce87e93",
   "metadata": {},
   "outputs": [],
   "source": [
    "df.loc[(df['age_group'] == 'Young adult') \n",
    "       & (df['familiy_status'] == 'Parent'), 'customer_profile'] = 'Young parent'"
   ]
  },
  {
   "cell_type": "code",
   "execution_count": 26,
   "id": "61f11df7",
   "metadata": {},
   "outputs": [],
   "source": [
    "df.loc[(df['age_group'] == 'Adult') \n",
    "       & (df['familiy_status'] == 'Parent'), 'customer_profile'] = 'Adult parent'"
   ]
  },
  {
   "cell_type": "code",
   "execution_count": 27,
   "id": "9f18fc25",
   "metadata": {},
   "outputs": [],
   "source": [
    "df.loc[(df['age_group'] == 'Adult')\n",
    "       & (df['goods_category'] == 'Pets')\n",
    "           & (df['familiy_status'] == 'Parent'), 'customer_profile'] = 'Adult parent with pet'"
   ]
  },
  {
   "cell_type": "code",
   "execution_count": 28,
   "id": "e67e1081",
   "metadata": {},
   "outputs": [],
   "source": [
    "df.loc[(df['age_group'] == 'Senior')\n",
    "       & (df['income_group'] == 'Low income'), 'customer_profile'] = 'Senior low income'"
   ]
  },
  {
   "cell_type": "code",
   "execution_count": 29,
   "id": "f03e5a18",
   "metadata": {},
   "outputs": [],
   "source": [
    "df.loc[(df['age_group'] == 'Senior')\n",
    "       & (df['income_group'] == 'Upper income'), 'customer_profile'] = 'Senior upper income'"
   ]
  },
  {
   "cell_type": "code",
   "execution_count": 30,
   "id": "3fa2f6d9",
   "metadata": {},
   "outputs": [
    {
     "data": {
      "text/plain": [
       "Adult parent             14711774\n",
       "Young parent              2709423\n",
       "Senior upper income       1119741\n",
       "Senior low income          778226\n",
       "Adult parent with pet       43647\n",
       "Name: customer_profile, dtype: int64"
      ]
     },
     "execution_count": 30,
     "metadata": {},
     "output_type": "execute_result"
    }
   ],
   "source": [
    "df['customer_profile'].value_counts()"
   ]
  },
  {
   "cell_type": "markdown",
   "id": "c1364dce",
   "metadata": {},
   "source": [
    "### 6. Customer profile frequency and expenditure <a name=\"paragraph6\"></a> "
   ]
  },
  {
   "cell_type": "code",
   "execution_count": 57,
   "id": "e8916be5",
   "metadata": {},
   "outputs": [],
   "source": [
    "# Aggregating descriptive statistics on prices by customer profile\n",
    "freqt_1 = df.groupby('customer_profile').agg({'purchase_frequency': ['mean']})"
   ]
  },
  {
   "cell_type": "code",
   "execution_count": 44,
   "id": "41d69fc8",
   "metadata": {},
   "outputs": [],
   "source": [
    "# Aggregating descriptive statistics  on purchase freq by customer profile\n",
    "freqt_2 = df.groupby('customer_profile').agg({'prices': ['mean', 'min', 'max']})"
   ]
  },
  {
   "cell_type": "code",
   "execution_count": 40,
   "id": "1352c982",
   "metadata": {},
   "outputs": [],
   "source": [
    "# Aggregating descriptive statistics on goods category\n",
    "xtab_0 = pd.crosstab(df['goods_category'],df['customer_profile'], normalize='index')"
   ]
  },
  {
   "cell_type": "code",
   "execution_count": 84,
   "id": "4784fc5e",
   "metadata": {},
   "outputs": [],
   "source": [
    "# Aggregating descriptive statistics  on purchase freq by customer profile\n",
    "xtab_5 = pd.crosstab(df['customer_profile'], df['spending_flag'], dropna = False, normalize='index')"
   ]
  },
  {
   "cell_type": "markdown",
   "id": "9879b6e6",
   "metadata": {},
   "source": [
    "### 7. Customer profiles by regions <a name=\"paragraph7\"></a>"
   ]
  },
  {
   "cell_type": "code",
   "execution_count": 52,
   "id": "3f125c95",
   "metadata": {},
   "outputs": [
    {
     "data": {
      "text/html": [
       "<div>\n",
       "<style scoped>\n",
       "    .dataframe tbody tr th:only-of-type {\n",
       "        vertical-align: middle;\n",
       "    }\n",
       "\n",
       "    .dataframe tbody tr th {\n",
       "        vertical-align: top;\n",
       "    }\n",
       "\n",
       "    .dataframe thead th {\n",
       "        text-align: right;\n",
       "    }\n",
       "</style>\n",
       "<table border=\"1\" class=\"dataframe\">\n",
       "  <thead>\n",
       "    <tr style=\"text-align: right;\">\n",
       "      <th>customer_profile</th>\n",
       "      <th>Adult parent</th>\n",
       "      <th>Adult parent with pet</th>\n",
       "      <th>Senior low income</th>\n",
       "      <th>Senior upper income</th>\n",
       "      <th>Young parent</th>\n",
       "    </tr>\n",
       "    <tr>\n",
       "      <th>region</th>\n",
       "      <th></th>\n",
       "      <th></th>\n",
       "      <th></th>\n",
       "      <th></th>\n",
       "      <th></th>\n",
       "    </tr>\n",
       "  </thead>\n",
       "  <tbody>\n",
       "    <tr>\n",
       "      <th>Midwest</th>\n",
       "      <td>0.763430</td>\n",
       "      <td>0.002090</td>\n",
       "      <td>0.038962</td>\n",
       "      <td>0.054711</td>\n",
       "      <td>0.140808</td>\n",
       "    </tr>\n",
       "    <tr>\n",
       "      <th>Northeast</th>\n",
       "      <td>0.759390</td>\n",
       "      <td>0.002340</td>\n",
       "      <td>0.042253</td>\n",
       "      <td>0.057670</td>\n",
       "      <td>0.138347</td>\n",
       "    </tr>\n",
       "    <tr>\n",
       "      <th>South</th>\n",
       "      <td>0.756435</td>\n",
       "      <td>0.002205</td>\n",
       "      <td>0.039774</td>\n",
       "      <td>0.059911</td>\n",
       "      <td>0.141676</td>\n",
       "    </tr>\n",
       "    <tr>\n",
       "      <th>West</th>\n",
       "      <td>0.761148</td>\n",
       "      <td>0.002409</td>\n",
       "      <td>0.040437</td>\n",
       "      <td>0.058067</td>\n",
       "      <td>0.137939</td>\n",
       "    </tr>\n",
       "  </tbody>\n",
       "</table>\n",
       "</div>"
      ],
      "text/plain": [
       "customer_profile  Adult parent  Adult parent with pet  Senior low income  \\\n",
       "region                                                                     \n",
       "Midwest               0.763430               0.002090           0.038962   \n",
       "Northeast             0.759390               0.002340           0.042253   \n",
       "South                 0.756435               0.002205           0.039774   \n",
       "West                  0.761148               0.002409           0.040437   \n",
       "\n",
       "customer_profile  Senior upper income  Young parent  \n",
       "region                                               \n",
       "Midwest                      0.054711      0.140808  \n",
       "Northeast                    0.057670      0.138347  \n",
       "South                        0.059911      0.141676  \n",
       "West                         0.058067      0.137939  "
      ]
     },
     "execution_count": 52,
     "metadata": {},
     "output_type": "execute_result"
    }
   ],
   "source": [
    "# Creating crosstab on customer profile and region and displaying it\n",
    "customer_profile_region = pd.crosstab(df['region'], df['customer_profile'], dropna = False, normalize='index')\n",
    "customer_profile_region"
   ]
  },
  {
   "cell_type": "markdown",
   "id": "7a41fc42",
   "metadata": {},
   "source": [
    "#### There are a higher percentage of young parents in the Northeast and a higher number of single aduls with a pet in the Midwest."
   ]
  },
  {
   "cell_type": "code",
   "execution_count": 40,
   "id": "8e910b94",
   "metadata": {},
   "outputs": [
    {
     "data": {
      "text/html": [
       "<div>\n",
       "<style scoped>\n",
       "    .dataframe tbody tr th:only-of-type {\n",
       "        vertical-align: middle;\n",
       "    }\n",
       "\n",
       "    .dataframe tbody tr th {\n",
       "        vertical-align: top;\n",
       "    }\n",
       "\n",
       "    .dataframe thead th {\n",
       "        text-align: right;\n",
       "    }\n",
       "</style>\n",
       "<table border=\"1\" class=\"dataframe\">\n",
       "  <thead>\n",
       "    <tr style=\"text-align: right;\">\n",
       "      <th>customer_profile</th>\n",
       "      <th>Married senior with pet</th>\n",
       "      <th>Single adult with pet</th>\n",
       "      <th>Young parent</th>\n",
       "    </tr>\n",
       "    <tr>\n",
       "      <th>goods_category</th>\n",
       "      <th></th>\n",
       "      <th></th>\n",
       "      <th></th>\n",
       "    </tr>\n",
       "  </thead>\n",
       "  <tbody>\n",
       "    <tr>\n",
       "      <th>Babies</th>\n",
       "      <td>0.000000</td>\n",
       "      <td>0.000000</td>\n",
       "      <td>1.0</td>\n",
       "    </tr>\n",
       "    <tr>\n",
       "      <th>Pets</th>\n",
       "      <td>0.475689</td>\n",
       "      <td>0.524311</td>\n",
       "      <td>0.0</td>\n",
       "    </tr>\n",
       "  </tbody>\n",
       "</table>\n",
       "</div>"
      ],
      "text/plain": [
       "customer_profile  Married senior with pet  Single adult with pet  Young parent\n",
       "goods_category                                                                \n",
       "Babies                           0.000000               0.000000           1.0\n",
       "Pets                             0.475689               0.524311           0.0"
      ]
     },
     "execution_count": 40,
     "metadata": {},
     "output_type": "execute_result"
    }
   ],
   "source": [
    "# Creating crosstab on customer profile and department and displaying it\n",
    "customer_profile_department = pd.crosstab(df['goods_category'], df['customer_profile'], dropna = False, normalize='index')\n",
    "customer_profile_department"
   ]
  },
  {
   "cell_type": "markdown",
   "id": "3143b9dd",
   "metadata": {},
   "source": [
    "#### As expected customers without pets or children wont buy in the pets and babies products."
   ]
  },
  {
   "cell_type": "markdown",
   "id": "c72e5c40",
   "metadata": {},
   "source": [
    "### 8. Chart visualisations <a name=\"paragraph8\"></a>"
   ]
  },
  {
   "cell_type": "code",
   "execution_count": null,
   "id": "63cfd7dc",
   "metadata": {},
   "outputs": [],
   "source": [
    "# Creating bar chart\n",
    "bar_1 = df['region'].value_counts().plot.bar(figsize=(5,10))\n",
    "plt.title(\"Orders per region\")\n",
    "plt.xlabel(\"Region\")\n",
    "plt.ylabel(\"Orders in millions\")"
   ]
  },
  {
   "cell_type": "code",
   "execution_count": null,
   "id": "72446024",
   "metadata": {},
   "outputs": [],
   "source": [
    "# Creating bar chart\n",
    "bar_2 = df['loyalty_flag'].value_counts().plot.bar(figsize=(5,10))\n",
    "plt.title(\"Orders per customer type\")\n",
    "plt.xlabel(\"Customer type\")\n",
    "plt.ylabel(\"Orders in millions\")"
   ]
  },
  {
   "cell_type": "code",
   "execution_count": null,
   "id": "babbacde",
   "metadata": {},
   "outputs": [],
   "source": [
    "# Creating bar chart\n",
    "bar_3 = df['age_group'].value_counts().plot.bar(figsize=(5,10))\n",
    "plt.title(\"Orders per age group\")\n",
    "plt.xlabel(\"Age group\")\n",
    "plt.ylabel(\"Orders in millions\")"
   ]
  },
  {
   "cell_type": "code",
   "execution_count": null,
   "id": "0f9da054",
   "metadata": {},
   "outputs": [],
   "source": [
    "# Creating bar chart\n",
    "bar_4 = df['income_group'].value_counts().plot.bar(figsize=(5,10))\n",
    "plt.title(\"Orders per income group\")\n",
    "plt.xlabel(\"Income group\")\n",
    "plt.ylabel(\"Orders in millions\")"
   ]
  },
  {
   "cell_type": "code",
   "execution_count": null,
   "id": "02a85e11",
   "metadata": {},
   "outputs": [],
   "source": [
    "# Creating bar chart\n",
    "bar_5 = df['familiy_status'].value_counts().plot.bar(figsize=(5,10))\n",
    "plt.title(\"Orders per family_status\")\n",
    "plt.xlabel(\"Family status\")\n",
    "plt.ylabel(\"Orders in millions\")"
   ]
  },
  {
   "cell_type": "code",
   "execution_count": null,
   "id": "dd80a4a8",
   "metadata": {},
   "outputs": [],
   "source": [
    "# Creating bar chart\n",
    "bar_6 = df['relationship_status'].value_counts().plot.bar(figsize=(5,10))\n",
    "plt.title(\"Orders per relationship_status\")\n",
    "plt.xlabel(\"Relationship status\")\n",
    "plt.ylabel(\"Orders in millions\")"
   ]
  },
  {
   "cell_type": "code",
   "execution_count": null,
   "id": "21c0fb16",
   "metadata": {},
   "outputs": [],
   "source": [
    "# Creating bar chart\n",
    "bar_7 = df['goods_category'].value_counts().plot.bar(figsize=(5,10))\n",
    "plt.title(\"Orders per goods_category\")\n",
    "plt.xlabel(\"Goods category\")\n",
    "plt.ylabel(\"Orders in millions\")"
   ]
  },
  {
   "cell_type": "code",
   "execution_count": null,
   "id": "425c4beb",
   "metadata": {
    "scrolled": false
   },
   "outputs": [],
   "source": [
    "xtab_2 = pd.crosstab(df['region'], df['frequency_flag'], normalize='index')\n",
    "bar_8 = xtab_2.plot(kind = 'bar', stacked = True,figsize=(5,10))"
   ]
  },
  {
   "cell_type": "code",
   "execution_count": null,
   "id": "7a8d1e96",
   "metadata": {
    "scrolled": true
   },
   "outputs": [],
   "source": [
    "xtab_3 = pd.crosstab(df['region'], df['spending_flag'], dropna = False, normalize='index')\n",
    "bar_9 = xtab_3.plot(kind = 'bar', stacked = True,figsize=(5,10))"
   ]
  },
  {
   "cell_type": "code",
   "execution_count": 99,
   "id": "6db42e17",
   "metadata": {},
   "outputs": [],
   "source": [
    "price_group = []\n",
    "for value in df['prices']:\n",
    "    if value > 10:\n",
    "        price_group.append('high') # high price range \n",
    "    elif value <= 10 and value > 5:\n",
    "        price_group.append('mid') # mid price range\n",
    "    elif value <= 5:\n",
    "        price_group.append('low') # low price range\n",
    "    else:\n",
    "        price_group.append(np.nan)"
   ]
  },
  {
   "cell_type": "code",
   "execution_count": 101,
   "id": "f56f7cad",
   "metadata": {},
   "outputs": [],
   "source": [
    "df['price_group'] = price_group"
   ]
  },
  {
   "cell_type": "code",
   "execution_count": null,
   "id": "b7c23591",
   "metadata": {},
   "outputs": [],
   "source": [
    "pie_1 = df['price_group'].value_counts().sort_index().plot.pie(autopct='%1.0f%%')\n",
    "plt.title(\"Price groups\")"
   ]
  },
  {
   "cell_type": "code",
   "execution_count": 104,
   "id": "ade93a37",
   "metadata": {},
   "outputs": [],
   "source": [
    "# Creating naming column for department by department id\n",
    "df.loc[(df['department_id'] == 1), 'department_name'] = 'Frozen'\n",
    "df.loc[(df['department_id'] == 2), 'department_name'] = 'Other'\n",
    "df.loc[(df['department_id'] == 3), 'department_name'] = 'Bakery'\n",
    "df.loc[(df['department_id'] == 4), 'department_name'] = 'Produce'\n",
    "df.loc[(df['department_id'] == 5), 'department_name'] = 'Alcohol'\n",
    "df.loc[(df['department_id'] == 6), 'department_name'] = 'International'\n",
    "df.loc[(df['department_id'] == 7), 'department_name'] = 'Beverages'\n",
    "df.loc[(df['department_id'] == 8), 'department_name'] = 'Pets'\n",
    "df.loc[(df['department_id'] == 9), 'department_name'] = 'Dry goods pasta'\n",
    "df.loc[(df['department_id'] == 10), 'department_name'] = 'Bulk'\n",
    "df.loc[(df['department_id'] == 11), 'department_name'] = 'Personal care'\n",
    "df.loc[(df['department_id'] == 12), 'department_name'] = 'Meat seafood'\n",
    "df.loc[(df['department_id'] == 13), 'department_name'] = 'Pantry'\n",
    "df.loc[(df['department_id'] == 14), 'department_name'] = 'Breakfast'\n",
    "df.loc[(df['department_id'] == 15), 'department_name'] = 'Canned goods'\n",
    "df.loc[(df['department_id'] == 16), 'department_name'] = 'Dairy eggs'\n",
    "df.loc[(df['department_id'] == 17), 'department_name'] = 'Household'\n",
    "df.loc[(df['department_id'] == 18), 'department_name'] = 'Babies'\n",
    "df.loc[(df['department_id'] == 19), 'department_name'] = 'Snacks'\n",
    "df.loc[(df['department_id'] == 20), 'department_name'] = 'Deli'\n",
    "df.loc[(df['department_id'] == 21), 'department_name'] = 'Missing'"
   ]
  },
  {
   "cell_type": "code",
   "execution_count": null,
   "id": "15581004",
   "metadata": {},
   "outputs": [],
   "source": [
    "bar_10 = df.department_name.value_counts().sort_values(ascending = True).plot.barh(figsize=(10,10))\n",
    "plt.title(\"Orders per department\")\n",
    "plt.xlabel(\"Orders in millions\")\n",
    "plt.ylabel(\"Department\")"
   ]
  },
  {
   "cell_type": "code",
   "execution_count": null,
   "id": "673380d9",
   "metadata": {},
   "outputs": [],
   "source": [
    "# Creating a pie chart for 'loyalty_flag' and sorting it by index and coloring its bars\n",
    "pie_2 = df['loyalty_flag'].value_counts().sort_index().plot.pie(autopct='%1.0f%%')\n",
    "plt.title(\"Customer Loyalty\")"
   ]
  },
  {
   "cell_type": "code",
   "execution_count": null,
   "id": "b28167a9",
   "metadata": {},
   "outputs": [],
   "source": [
    "xtab_4 = pd.crosstab(df['loyalty_flag'], df['spending_flag'], dropna = False, normalize='index')\n",
    "bar_11 = xtab_4.plot(kind = 'bar', stacked = True,figsize=(5,10))"
   ]
  },
  {
   "cell_type": "code",
   "execution_count": null,
   "id": "9ff60828",
   "metadata": {
    "scrolled": false
   },
   "outputs": [],
   "source": [
    "xtab_5 = pd.crosstab(df['loyalty_flag'], df['frequency_flag'], dropna = False, normalize='index')\n",
    "bar_12 = xtab_5.plot(kind = 'bar', stacked = True,figsize=(5,10))"
   ]
  },
  {
   "cell_type": "code",
   "execution_count": 107,
   "id": "82d54e34",
   "metadata": {},
   "outputs": [
    {
     "data": {
      "text/plain": [
       "Text(0, 0.5, 'Customer type')"
      ]
     },
     "execution_count": 107,
     "metadata": {},
     "output_type": "execute_result"
    },
    {
     "data": {
      "image/png": "[encoded data removed]",
      "text/plain": [
       "<Figure size 1080x360 with 1 Axes>"
      ]
     },
     "metadata": {
      "needs_background": "light"
     },
     "output_type": "display_data"
    }
   ],
   "source": [
    "bar_13 = freqt_1.plot(kind = 'barh', stacked = True,figsize=(15,5))\n",
    "plt.title(\"Average purchase freqency per customer type\")\n",
    "plt.xlabel(\"Orders in millions\")\n",
    "plt.ylabel(\"Customer type\")"
   ]
  },
  {
   "cell_type": "code",
   "execution_count": 108,
   "id": "56f192cb",
   "metadata": {
    "scrolled": false
   },
   "outputs": [
    {
     "data": {
      "text/plain": [
       "Text(0, 0.5, 'Orders in millions')"
      ]
     },
     "execution_count": 108,
     "metadata": {},
     "output_type": "execute_result"
    },
    {
     "data": {
      "image/png": "[encoded data removed]",
      "text/plain": [
       "<Figure size 1080x360 with 1 Axes>"
      ]
     },
     "metadata": {
      "needs_background": "light"
     },
     "output_type": "display_data"
    }
   ],
   "source": [
    "bar_14 = freqt_2.plot(kind = 'barh',figsize=(15,5))\n",
    "plt.title(\"Average price per customer type\")\n",
    "plt.xlabel(\"Customer type\")\n",
    "plt.ylabel(\"Orders in millions\")"
   ]
  },
  {
   "cell_type": "code",
   "execution_count": 109,
   "id": "8e2272ff",
   "metadata": {},
   "outputs": [
    {
     "data": {
      "text/plain": [
       "Text(0, 0.5, 'Goods')"
      ]
     },
     "execution_count": 109,
     "metadata": {},
     "output_type": "execute_result"
    },
    {
     "data": {
      "image/png": "[encoded data removed]",
      "text/plain": [
       "<Figure size 1080x360 with 1 Axes>"
      ]
     },
     "metadata": {
      "needs_background": "light"
     },
     "output_type": "display_data"
    }
   ],
   "source": [
    "bar_15 = xtab_0.plot(kind = 'barh', stacked = True,figsize=(15,5))\n",
    "plt.title(\"Products bought per customer type\")\n",
    "plt.xlabel(\"Orders in millions\")\n",
    "plt.ylabel(\"Goods\")"
   ]
  },
  {
   "cell_type": "code",
   "execution_count": 110,
   "id": "6a57f301",
   "metadata": {},
   "outputs": [
    {
     "data": {
      "text/plain": [
       "Text(0, 0.5, 'Customer type')"
      ]
     },
     "execution_count": 110,
     "metadata": {},
     "output_type": "execute_result"
    },
    {
     "data": {
      "image/png": "[encoded data removed]",
      "text/plain": [
       "<Figure size 1080x360 with 1 Axes>"
      ]
     },
     "metadata": {
      "needs_background": "light"
     },
     "output_type": "display_data"
    }
   ],
   "source": [
    "bar_16 = xtab_5.plot(kind = 'barh',stacked = True,figsize=(15,5))\n",
    "plt.title(\"Spending per customer type\")\n",
    "plt.xlabel(\"Orders in millions\")\n",
    "plt.ylabel(\"Customer type\")"
   ]
  },
  {
   "cell_type": "markdown",
   "id": "631a9409",
   "metadata": {},
   "source": [
    "### 9. Visualisations export <a name=\"paragraph9\"></a> "
   ]
  },
  {
   "cell_type": "code",
   "execution_count": 53,
   "id": "aa67645b",
   "metadata": {},
   "outputs": [],
   "source": [
    "# Exporting charts\n",
    "bar_0.figure.savefig(os.path.join(path, '04 Analysis','Visualizations', 'bar_0_orders_region_f.png'))"
   ]
  },
  {
   "cell_type": "code",
   "execution_count": null,
   "id": "ddf40d92",
   "metadata": {},
   "outputs": [],
   "source": [
    "bar_1.figure.savefig(os.path.join(path, '04 Analysis','Visualizations', 'bar_1_orders_region_f.png'))"
   ]
  },
  {
   "cell_type": "code",
   "execution_count": null,
   "id": "9c877160",
   "metadata": {},
   "outputs": [],
   "source": [
    "bar_2.figure.savefig(os.path.join(path, '04 Analysis','Visualizations', 'bar_2_orders_customer_type_f.png'))"
   ]
  },
  {
   "cell_type": "code",
   "execution_count": null,
   "id": "21a2563b",
   "metadata": {},
   "outputs": [],
   "source": [
    "bar_3.figure.savefig(os.path.join(path, '04 Analysis','Visualizations', 'bar_3_orders_age_group_f.png'))"
   ]
  },
  {
   "cell_type": "code",
   "execution_count": null,
   "id": "69024202",
   "metadata": {},
   "outputs": [],
   "source": [
    "bar_4.figure.savefig(os.path.join(path, '04 Analysis','Visualizations', 'bar_4_orders_income_group_f.png'))"
   ]
  },
  {
   "cell_type": "code",
   "execution_count": null,
   "id": "e81bb878",
   "metadata": {},
   "outputs": [],
   "source": [
    "bar_5.figure.savefig(os.path.join(path, '04 Analysis','Visualizations', 'bar_5_orders_family_status_f.png'))"
   ]
  },
  {
   "cell_type": "code",
   "execution_count": null,
   "id": "68bd284a",
   "metadata": {},
   "outputs": [],
   "source": [
    "bar_6.figure.savefig(os.path.join(path, '04 Analysis','Visualizations', 'bar_6_orders_relationship_status_f.png'))"
   ]
  },
  {
   "cell_type": "code",
   "execution_count": null,
   "id": "7ed037d5",
   "metadata": {},
   "outputs": [],
   "source": [
    "bar_7.figure.savefig(os.path.join(path, '04 Analysis','Visualizations', 'bar_7_orders_goods_category_f.png'))"
   ]
  },
  {
   "cell_type": "code",
   "execution_count": null,
   "id": "bf862b37",
   "metadata": {},
   "outputs": [],
   "source": [
    "bar_8.figure.savefig(os.path.join(path, '04 Analysis','Visualizations', 'bar_8_region_freq_f.png'))"
   ]
  },
  {
   "cell_type": "code",
   "execution_count": null,
   "id": "7a869d39",
   "metadata": {},
   "outputs": [],
   "source": [
    "bar_9.figure.savefig(os.path.join(path, '04 Analysis','Visualizations', 'bar_9_region_spending_f.png'))"
   ]
  },
  {
   "cell_type": "code",
   "execution_count": 111,
   "id": "5740e4c6",
   "metadata": {},
   "outputs": [],
   "source": [
    "pie_1.figure.savefig(os.path.join(path, '04 Analysis','Visualizations', 'pie_1_price_groups_f.png'))"
   ]
  },
  {
   "cell_type": "code",
   "execution_count": null,
   "id": "84c7f757",
   "metadata": {},
   "outputs": [],
   "source": [
    "bar_10.figure.savefig(os.path.join(path, '04 Analysis','Visualizations', 'bar_10_orders_department_f.png'))"
   ]
  },
  {
   "cell_type": "code",
   "execution_count": 112,
   "id": "7da80480",
   "metadata": {},
   "outputs": [],
   "source": [
    "pie_2.figure.savefig(os.path.join(path, '04 Analysis','Visualizations', 'pie_2_customer_loyalty_f.png'))"
   ]
  },
  {
   "cell_type": "code",
   "execution_count": null,
   "id": "a783a07b",
   "metadata": {},
   "outputs": [],
   "source": [
    "bar_11.figure.savefig(os.path.join(path, '04 Analysis','Visualizations', 'bar_11_loyalty_spending_f.png'))"
   ]
  },
  {
   "cell_type": "code",
   "execution_count": null,
   "id": "47128954",
   "metadata": {},
   "outputs": [],
   "source": [
    "bar_12.figure.savefig(os.path.join(path, '04 Analysis','Visualizations', 'bar_12_loyalty_freq_f.png'))"
   ]
  },
  {
   "cell_type": "code",
   "execution_count": 111,
   "id": "d8d84008",
   "metadata": {},
   "outputs": [],
   "source": [
    "bar_13.figure.savefig(os.path.join(path, '04 Analysis','Visualizations', 'bar_13_customer_type_freq_f.png'))"
   ]
  },
  {
   "cell_type": "code",
   "execution_count": 112,
   "id": "8d6b73e6",
   "metadata": {},
   "outputs": [],
   "source": [
    "bar_14.figure.savefig(os.path.join(path, '04 Analysis','Visualizations', 'bar_14_customer_type__prices_f.png'))"
   ]
  },
  {
   "cell_type": "code",
   "execution_count": 113,
   "id": "ef4e73ff",
   "metadata": {},
   "outputs": [],
   "source": [
    "bar_15.figure.savefig(os.path.join(path, '04 Analysis','Visualizations', 'bar_15_customer_type_products_f.png'))"
   ]
  },
  {
   "cell_type": "code",
   "execution_count": 114,
   "id": "f4aa305c",
   "metadata": {},
   "outputs": [],
   "source": [
    "bar_16.figure.savefig(os.path.join(path, '04 Analysis','Visualizations', 'bar_16_customer_type_spender_freq_f.png'))"
   ]
  },
  {
   "cell_type": "markdown",
   "id": "a6e84769",
   "metadata": {},
   "source": [
    "### 10. Data export <a name=\"paragraph10\"></a> "
   ]
  },
  {
   "cell_type": "code",
   "execution_count": 62,
   "id": "cb861619",
   "metadata": {},
   "outputs": [],
   "source": [
    "df.to_pickle(os.path.join(path, '02 Data', 'Prepared Data', 'df_instacart_final.pkl'))"
   ]
  }
 ],
 "metadata": {
  "kernelspec": {
   "display_name": "Python 3 (ipykernel)",
   "language": "python",
   "name": "python3"
  },
  "language_info": {
   "codemirror_mode": {
    "name": "ipython",
    "version": 3
   },
   "file_extension": ".py",
   "mimetype": "text/x-python",
   "name": "python",
   "nbconvert_exporter": "python",
   "pygments_lexer": "ipython3",
   "version": "3.9.12"
  }
 },
 "nbformat": 4,
 "nbformat_minor": 5
}
